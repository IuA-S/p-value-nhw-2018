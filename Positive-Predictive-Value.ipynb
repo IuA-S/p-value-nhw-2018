{
 "cells": [
  {
   "cell_type": "markdown",
   "metadata": {
    "slideshow": {
     "slide_type": "slide"
    }
   },
   "source": [
    "# The positive predictive value"
   ]
  },
  {
   "cell_type": "markdown",
   "metadata": {},
   "source": [
    "## Let's see this notebook in a better format :\n",
    "### [HERE](http://www.reproducibleimaging.org/module-stats/05-PPV/)"
   ]
  },
  {
   "cell_type": "markdown",
   "metadata": {
    "slideshow": {
     "slide_type": "slide"
    }
   },
   "source": [
    "## Some Definitions "
   ]
  },
  {
   "cell_type": "markdown",
   "metadata": {
    "slideshow": {
     "slide_type": "subslide"
    }
   },
   "source": [
    "* $H_0$ : null hypothesis: The hypotheis that the effect we are testing for is null\n",
    "\n",
    "* $H_A$ : alternative hypothesis : Not $H_0$, so there is some signal\n",
    "\n",
    "* $T$ : The random variable that takes value \"significant\" or \"not significant\"\n",
    "\n",
    "* $T_S$ : Value of T when test is significant (eg $T = T_S$) - or, the event \"the test is significant\"\n",
    "\n",
    "* $T_N$ : Value of T when test is not significant (eg $T = T_N$) or, the event \"the test is not significant\"\n",
    "\n",
    "* $\\alpha$ : false positive rate - probability to reject $H_0$ when $H_0$ is true ($H_A$ is false)\n",
    "\n",
    "* $\\beta$ : false negative rate - probability to accept $H_0$ when $H_A$ is true ($H_0$ is false)\n"
   ]
  },
  {
   "cell_type": "markdown",
   "metadata": {
    "slideshow": {
     "slide_type": "subslide"
    }
   },
   "source": [
    "power = $1-\\beta$ \n",
    "\n",
    "where $\\beta$ is the risk of *false negative*\n",
    "\n",
    "So, to compute power, *we need to know what is the risk of false negative*, ie, the risk to not show a significant effect while we have some signal (null is false)."
   ]
  },
  {
   "cell_type": "markdown",
   "metadata": {},
   "source": [
    "## Some standard python imports"
   ]
  },
  {
   "cell_type": "code",
   "execution_count": 1,
   "metadata": {
    "slideshow": {
     "slide_type": "skip"
    }
   },
   "outputs": [
    {
     "name": "stderr",
     "output_type": "stream",
     "text": [
      "/home/jb/virtualenvs/nhw-2018/lib/python3.5/importlib/_bootstrap.py:222: RuntimeWarning: numpy.dtype size changed, may indicate binary incompatibility. Expected 96, got 88\n",
      "  return f(*args, **kwds)\n"
     ]
    }
   ],
   "source": [
    "import matplotlib.pyplot as plt\n",
    "%matplotlib inline\n",
    "import numpy as np\n",
    "import scipy.stats as sst\n",
    "import matplotlib.pyplot as plt\n",
    "from __future__ import division #python 2.x legacy"
   ]
  },
  {
   "cell_type": "markdown",
   "metadata": {},
   "source": [
    "## A function to plot nicely some tables of probability"
   ]
  },
  {
   "cell_type": "code",
   "execution_count": 2,
   "metadata": {
    "slideshow": {
     "slide_type": "skip"
    }
   },
   "outputs": [
    {
     "data": {
      "text/html": [
       "<h3>Not considering prior</h3>\n",
       "              <TABLE><TR><TH>$H/T$<TH>$T_S$<TH>$T_N$\n",
       "              <TR><TH>$H_A$<TD>$1 - \\beta$<TD>$\\beta$\n",
       "              <TR><TH>$H_0$<TD>$\\alpha$<TD>$1 - \\alpha$\n",
       "              <TR><TH>Total<TD>$1 + \\alpha - \\beta$<TD>$1 + \\beta - \\alpha$\n",
       "              </TABLE>"
      ],
      "text/plain": [
       "<IPython.core.display.HTML object>"
      ]
     },
     "execution_count": 2,
     "metadata": {},
     "output_type": "execute_result"
    }
   ],
   "source": [
    "from sympy import symbols, Eq, solve, simplify, lambdify, init_printing, latex\n",
    "init_printing(use_latex=True, order='old')\n",
    "from sympy.abc import alpha, beta # get alpha, beta symbolic variables\n",
    "from IPython.display import HTML\n",
    "# Code to make HTML for a probability table\n",
    "def association_table(assocs, title):\n",
    "    latexed = {'title': title}\n",
    "    for key, value in assocs.items():\n",
    "        latexed[key] = latex(value)\n",
    "    latexed['s_total'] = latex(assocs['t_s'] + assocs['f_s'])\n",
    "    latexed['ns_total'] = latex(assocs['t_ns'] + assocs['f_ns'])\n",
    "    return \"\"\"<h3>{title}</h3>\n",
    "              <TABLE><TR><TH>$H/T$<TH>$T_S$<TH>$T_N$\n",
    "              <TR><TH>$H_A$<TD>${t_s}$<TD>${t_ns}$\n",
    "              <TR><TH>$H_0$<TD>${f_s}$<TD>${f_ns}$\n",
    "              <TR><TH>Total<TD>${s_total}$<TD>${ns_total}$\n",
    "              </TABLE>\"\"\".format(**latexed)\n",
    "assoc = dict(t_s = 1 - beta, # H_A true, test significant = true positives\n",
    "             t_ns = beta, # true, not significant = false negatives\n",
    "             f_s = alpha, # false, significant = false positives\n",
    "             f_ns = 1 - alpha) # false, not sigificant = true negatives\n",
    "HTML(association_table(assoc, 'Not considering prior'))"
   ]
  },
  {
   "cell_type": "code",
   "execution_count": null,
   "metadata": {
    "slideshow": {
     "slide_type": "skip"
    }
   },
   "outputs": [],
   "source": []
  },
  {
   "cell_type": "markdown",
   "metadata": {
    "slideshow": {
     "slide_type": "slide"
    }
   },
   "source": [
    "## Derivation of Ionannidis / Button positive prediction value : PPV"
   ]
  },
  {
   "cell_type": "markdown",
   "metadata": {
    "slideshow": {
     "slide_type": "slide"
    }
   },
   "source": [
    "### Recall some important statistic concepts: Marginalization and Baye theorem"
   ]
  },
  {
   "cell_type": "markdown",
   "metadata": {
    "slideshow": {
     "slide_type": "slide"
    }
   },
   "source": [
    "#### Marginalization"
   ]
  },
  {
   "cell_type": "markdown",
   "metadata": {},
   "source": [
    "$\\newcommand{Frac}[2]{\\frac{\\displaystyle #1}{\\displaystyle #2}}$\n",
    "\n",
    "We now consider that the hypotheses are *random events*, so we have a probability associated to these events. \n",
    "\n",
    "Let's define some new terms:\n",
    "\n",
    "* $P(H_A)$ - prior probability of $H_A$ - probability of $H_A$ before the experiment.\n",
    "* $P(H_0)$ - prior probability of $H_0$ = $1 - Pr(H_A)$ - probability of null hypothesis before the experiment\n",
    "\n",
    "We are interested in updating the probability of $H_A$ and $H_0$ as a result of a test on some collected data.  \n",
    "This updated probability is $P(H_A | T)$ - the probability of $H_A$ given the test  result $T$. $P(H_A | T)$ is called the *posterior* probability because it is the probability after the test result is known.\n",
    "\n",
    "Lets imagine that the event A occurs under the events b1, b2, .., bn, these events bi are mutually exclusive and they represent all possibilities. For instance, the event \"the test is significant\" occurs under \"H0\" and \"H1\". \n",
    "The marginalization theorem is simply that \n",
    "\n",
    "$$ P(A) = \\sum_{b_i} P(A,B=b_i) $$\n",
    "\n",
    "In our previous example, \n",
    "\n",
    "$$ P(T_S) = \\sum_{h=H_0, H_1} P(T_S, h) = P(T_S, H_0) + P(T_S, H_1) $$\n",
    "\n",
    "\n",
    "Throughout $P(A, B)$ reads \"Probability of A AND B\". To simplify the notation, we note $P(B=b)$ as $P(b)$"
   ]
  },
  {
   "cell_type": "markdown",
   "metadata": {},
   "source": [
    "#### Baye theorem"
   ]
  },
  {
   "cell_type": "markdown",
   "metadata": {
    "slideshow": {
     "slide_type": "fragment"
    }
   },
   "source": [
    "Remembering [Bayes theorem](http://en.wikipedia.org/wiki/Bayes'_theorem#Derivation):\n",
    "\n",
    "$$P(A, B) = P(A | B) P(B)$$\n",
    "\n",
    "and therefore\n",
    "\n",
    "$$P(A | B) = \\Frac{P(B, A)}{P(B)} = \\Frac{P(B | A) P(A)}{P(B)}$$\n",
    "\n",
    "Putting marginalization and Bayes together we have : \n",
    "\n",
    "$$P(A) = \\sum_{b_i} P(A|B=b_i) P(B=b_i)$$\n",
    "\n",
    "Now, apply this to the probability of the test results $T$. The test takes a value either under  $H_A$ or $H_0$.\n",
    "The probability of a *signficant* result of the test $T=T_S$ is :\n",
    "\n",
    "$Pr(T=T_S) = P(T_S) = Pr(T_S | H_A) Pr(H_A) + Pr(T_S | H_0) Pr(H_0)$"
   ]
  },
  {
   "cell_type": "markdown",
   "metadata": {
    "slideshow": {
     "slide_type": "fragment"
    }
   },
   "source": [
    "\n",
    "What is the posterior probability of $H_A$ given that the test is significant?\n",
    "\n",
    "$P(H_A | T_S) = \\Frac{P(T_S | H_A) P(H_A)}{P(T_S)} = \\Frac{P(T_S | H_A) P(H_A)}{P(T_S | H_A) Pr(H_A) + Pr(T_S | H_0) Pr(H_0)}$\n",
    "\n",
    "We have $P(T_S | H_A)$, $P(T_S | H_0)$ from the first column of the table above. Substituting into the equation:\n",
    "\n",
    "$P(H_A | T_S) = \\Frac{(1 - \\beta) P(H_A)}{(1 - \\beta) P(H_A) + \\alpha P(H_0)}$"
   ]
  },
  {
   "cell_type": "markdown",
   "metadata": {
    "slideshow": {
     "slide_type": "slide"
    }
   },
   "source": [
    "Defining:\n",
    "\n",
    "$\\pi := Pr(H_A)$, hence: $1 - \\pi = Pr(H_0)$\n",
    "\n",
    "we have:\n",
    "\n",
    "$P(H_A | T_S) = \\Frac{(1 - \\beta) \\pi}{(1 - \\beta) \\pi + \\alpha (1 - \\pi)}$\n"
   ]
  },
  {
   "cell_type": "code",
   "execution_count": 3,
   "metadata": {
    "slideshow": {
     "slide_type": "fragment"
    }
   },
   "outputs": [
    {
     "data": {
      "image/png": "[encoded data removed]",
      "text/latex": [
       "$$\\frac{\\pi \\left(1 - \\beta\\right)}{\\alpha \\left(1 - \\pi\\right) + \\pi \\left(1 - \\beta\\right)}$$"
      ],
      "text/plain": [
       "      π⋅(1 - β)      \n",
       "─────────────────────\n",
       "α⋅(1 - π) + π⋅(1 - β)"
      ]
     },
     "execution_count": 3,
     "metadata": {},
     "output_type": "execute_result"
    }
   ],
   "source": [
    "from sympy.abc import pi # get symbolic variable pi\n",
    "post_prob = (1 - beta) * pi / ((1 - beta) * pi + alpha * (1 - pi))\n",
    "post_prob"
   ]
  },
  {
   "cell_type": "code",
   "execution_count": 4,
   "metadata": {
    "slideshow": {
     "slide_type": "fragment"
    }
   },
   "outputs": [
    {
     "data": {
      "text/html": [
       "<h3>Considering prior $\\pi := P(H_A)$</h3>\n",
       "              <TABLE><TR><TH>$H/T$<TH>$T_S$<TH>$T_N$\n",
       "              <TR><TH>$H_A$<TD>$\\pi \\left(1 - \\beta\\right)$<TD>$\\beta \\pi$\n",
       "              <TR><TH>$H_0$<TD>$\\alpha \\left(1 - \\pi\\right)$<TD>$\\left(1 - \\alpha\\right) \\left(1 - \\pi\\right)$\n",
       "              <TR><TH>Total<TD>$\\alpha \\left(1 - \\pi\\right) + \\pi \\left(1 - \\beta\\right)$<TD>$\\beta \\pi + \\left(1 - \\alpha\\right) \\left(1 - \\pi\\right)$\n",
       "              </TABLE>"
      ],
      "text/plain": [
       "<IPython.core.display.HTML object>"
      ]
     },
     "execution_count": 4,
     "metadata": {},
     "output_type": "execute_result"
    }
   ],
   "source": [
    "assoc = dict(t_s = pi * (1 - beta),\n",
    "             t_ns = pi * beta,\n",
    "             f_s = (1 - pi) * alpha,\n",
    "             f_ns = (1 - pi) * (1 - alpha))\n",
    "HTML(association_table(assoc, r'Considering prior $\\pi := P(H_A)$'))"
   ]
  },
  {
   "cell_type": "markdown",
   "metadata": {
    "slideshow": {
     "slide_type": "slide"
    }
   },
   "source": [
    "## Retrieving the Ioannidis / Button et al formula"
   ]
  },
  {
   "cell_type": "markdown",
   "metadata": {
    "slideshow": {
     "slide_type": "fragment"
    }
   },
   "source": [
    "Same as Ioannidis - do the derivation starting with odd ratios \n",
    "\n",
    "From Button et al., we have the positive predictive value PPV defined as :\n",
    "\n",
    "$$\n",
    "PPV = \\frac{(1-\\beta)R}{(1-\\beta)R + \\alpha},\\textrm{ with } R = P(H_1)/P(H_0) = P_1/P_0 = \\pi / (1-\\pi)\n",
    "$$\n",
    "\n",
    "Hence, \n",
    "\n",
    "$$\n",
    "PPV = \\frac{(1-\\beta)P_1}{P_0}\\frac{P_0}{(1-\\beta)P_1 + \\alpha P_0} \n",
    "$$\n",
    "\n",
    "$$\n",
    "= \\frac{(1-\\beta)P_1}{(1-\\beta)P_1 + \\alpha P_0} \n",
    "$$\n",
    "\n",
    "$$\n",
    "= P(H_1, T_S) / P(T_S) = P(H_1 | T_S) \n",
    "$$"
   ]
  },
  {
   "cell_type": "markdown",
   "metadata": {
    "slideshow": {
     "slide_type": "fragment"
    }
   },
   "source": [
    "If we have 4 chances over 5 that $H_0$ is true, and one over five that $H_1$ true, then R = 1/5 / 4/5 = .25. If there's 30% power we have PPV = 50%. So, 50% chance that our result is indeed true. 80% power leads to 80% chance of $H_1$ to be true, knowing that we have detected an effect at the $\\alpha$ risk of error. "
   ]
  },
  {
   "cell_type": "markdown",
   "metadata": {},
   "source": [
    "### A small function to compute PPV"
   ]
  },
  {
   "cell_type": "code",
   "execution_count": 5,
   "metadata": {
    "slideshow": {
     "slide_type": "slide"
    }
   },
   "outputs": [],
   "source": [
    "def PPV_OR(odd_ratio, power, alpha, verbose=True):\n",
    "    \"\"\"\n",
    "    returns PPV from odd_ratio, power and alpha\n",
    "    \n",
    "    parameters:\n",
    "    -----------\n",
    "    odd_ratio: float\n",
    "        P(H_A)/(1-P(H_A))\n",
    "    power: float\n",
    "        Power for this study\n",
    "    alpha: float\n",
    "        type I risk of error\n",
    "        \n",
    "    Returns:\n",
    "    ----------\n",
    "    float\n",
    "        The positive predicted value\n",
    "    \n",
    "    \"\"\"\n",
    "    \n",
    "    ppv = (power*odd_ratio)/(power*odd_ratio + alpha)\n",
    "    if verbose:\n",
    "        print(\"With odd ratio=%3.2f, \"\n",
    "               \"Power=%3.2f, alpha=%3.2f, \"\n",
    "               \"We have PPV=%3.2f\" %(odd_ratio,power,alpha,ppv))\n",
    "    return ppv\n",
    "    "
   ]
  },
  {
   "cell_type": "code",
   "execution_count": 6,
   "metadata": {},
   "outputs": [],
   "source": [
    "one4sure = PPV_OR(1, 1, 0, verbose=False)\n",
    "assert one4sure == 1\n",
    "zero4sure = PPV_OR(0, 1, 0.05, verbose=False)\n",
    "assert zero4sure == 0\n",
    "weird2think = PPV_OR(1, 1, 1, verbose=False)\n",
    "assert weird2think == 0.5"
   ]
  },
  {
   "cell_type": "markdown",
   "metadata": {},
   "source": [
    "### A small function for display"
   ]
  },
  {
   "cell_type": "code",
   "execution_count": 7,
   "metadata": {},
   "outputs": [],
   "source": [
    "def plot_ppv(xvalues, yvalues, xlabel, ylabel, title):\n",
    "    '''\n",
    "    simply plot yvalues against xvalues, with labels and title\n",
    "    \n",
    "    Parameters:\n",
    "    -----------\n",
    "    xvalues, yvalues : iterables of numbers \n",
    "    labels and title : string\n",
    "    '''\n",
    "    \n",
    "    fig = plt.figure();\n",
    "    axis = fig.add_subplot(1, 1, 1)\n",
    "    axis.plot(xvalues, yvalues, color='red', marker='o', linestyle='dashed',\n",
    "            linewidth=2, markersize=14);\n",
    "    axis.set_xlabel(xlabel,fontsize=20);\n",
    "    axis.set_ylabel(ylabel,fontsize=20);\n",
    "    axis.set_title(figure_title, fontsize=20);\n",
    "    return fig, axis"
   ]
  },
  {
   "cell_type": "markdown",
   "metadata": {},
   "source": [
    "### Example from Button et al, 2013"
   ]
  },
  {
   "cell_type": "code",
   "execution_count": 8,
   "metadata": {
    "slideshow": {
     "slide_type": "fragment"
    }
   },
   "outputs": [
    {
     "name": "stdout",
     "output_type": "stream",
     "text": [
      "With odd ratio=0.20, Power=0.40, alpha=0.05, We have PPV=0.62\n"
     ]
    }
   ],
   "source": [
    "# example from Button et al: P1 = 1/5, P0 = 4/5. R = 1/4\n",
    "R = 1./5.\n",
    "Pw = .4\n",
    "alph = .05\n",
    "ppv = PPV_OR(R, Pw, alph)"
   ]
  },
  {
   "cell_type": "markdown",
   "metadata": {},
   "source": [
    "### Vary power"
   ]
  },
  {
   "cell_type": "code",
   "execution_count": 9,
   "metadata": {
    "scrolled": true,
    "slideshow": {
     "slide_type": "fragment"
    }
   },
   "outputs": [
    {
     "data": {
      "image/png": "[encoded data removed]",
      "text/plain": [
       "<Figure size 432x288 with 1 Axes>"
      ]
     },
     "metadata": {},
     "output_type": "display_data"
    }
   ],
   "source": [
    "#-----------------------------------------------------------------\n",
    "# Vary power:\n",
    "R = .2\n",
    "Pw = np.arange(.1,.80001,.1)\n",
    "alph = .20\n",
    "ppvs = [PPV_OR(R, pw, alph, verbose = False) for pw in Pw]\n",
    "xlabel = 'Power'\n",
    "ylabel = 'PPV'\n",
    "figure_title = 'With an odd ratio H1/H0 = {odd_ratio}'.format(odd_ratio=R)\n",
    "\n",
    "#-----------------------------------------------------------------\n",
    "# print\n",
    "plot_ppv(Pw, ppvs, xlabel, ylabel, figure_title);\n"
   ]
  },
  {
   "cell_type": "markdown",
   "metadata": {},
   "source": [
    "### Vary odd ratio"
   ]
  },
  {
   "cell_type": "code",
   "execution_count": 10,
   "metadata": {},
   "outputs": [
    {
     "data": {
      "image/png": "[encoded data removed]",
      "text/plain": [
       "<Figure size 432x288 with 1 Axes>"
      ]
     },
     "metadata": {},
     "output_type": "display_data"
    }
   ],
   "source": [
    "#-----------------------------------------------------------------\n",
    "# Vary odd ratio:\n",
    "Pw = .4\n",
    "alph = .05\n",
    "odd_ratios = np.arange(.05,.5,.05)\n",
    "ppvs = [PPV_OR(R, Pw, alph, verbose = False) for R in odd_ratios]\n",
    "xlabel = 'odd_ratios'\n",
    "ylabel = 'PPV'\n",
    "figure_title = 'With a power of {power}'.format(power=Pw)\n",
    "\n",
    "#-----------------------------------------------------------------\n",
    "# print\n",
    "plot_ppv(odd_ratios, ppvs, xlabel, ylabel, figure_title);\n"
   ]
  },
  {
   "cell_type": "markdown",
   "metadata": {},
   "source": [
    "### Vary alpha"
   ]
  },
  {
   "cell_type": "code",
   "execution_count": 11,
   "metadata": {},
   "outputs": [
    {
     "data": {
      "image/png": "[encoded data removed]",
      "text/plain": [
       "<Figure size 432x288 with 1 Axes>"
      ]
     },
     "metadata": {},
     "output_type": "display_data"
    }
   ],
   "source": [
    "#-----------------------------------------------------------------\n",
    "# Vary alpha:\n",
    "Pw = .5\n",
    "R = 1/5\n",
    "alphas = np.arange(0, .5, 0.05)# [0.001, .005, 0.01, 0.05, 0.1] #, 0.2, 0.3, 0.4, 0.5]\n",
    "ppvs = [PPV_OR(R, Pw, alph, verbose = False) for alph in alphas]\n",
    "\n",
    "#-----------------------------------------------------------------\n",
    "# print\n",
    "xlabel = 'alpha'\n",
    "ylabel = 'PPV'\n",
    "figure_title = 'With a power of {power} and odd ratio of {odd_ratio}'.format(\n",
    "                                        power=Pw, odd_ratio=R)\n",
    "plot_ppv(alphas, ppvs, xlabel, ylabel, figure_title);\n"
   ]
  },
  {
   "cell_type": "markdown",
   "metadata": {},
   "source": [
    "# End of the PPV section"
   ]
  },
  {
   "cell_type": "code",
   "execution_count": null,
   "metadata": {
    "collapsed": true
   },
   "outputs": [],
   "source": []
  },
  {
   "cell_type": "code",
   "execution_count": null,
   "metadata": {
    "collapsed": true
   },
   "outputs": [],
   "source": []
  }
 ],
 "metadata": {
  "celltoolbar": "Raw Cell Format",
  "kernelspec": {
   "display_name": "Python 3",
   "language": "python",
   "name": "python3"
  },
  "language_info": {
   "codemirror_mode": {
    "name": "ipython",
    "version": 3
   },
   "file_extension": ".py",
   "mimetype": "text/x-python",
   "name": "python",
   "nbconvert_exporter": "python",
   "pygments_lexer": "ipython3",
   "version": "3.5.2"
  },
  "toc": {
   "nav_menu": {},
   "number_sections": true,
   "sideBar": true,
   "skip_h1_title": false,
   "toc_cell": false,
   "toc_position": {},
   "toc_section_display": "block",
   "toc_window_display": false
  }
 },
 "nbformat": 4,
 "nbformat_minor": 1
}
